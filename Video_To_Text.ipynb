{
    "cells": [
        {
            "cell_type": "markdown",
            "metadata": {},
            "source": "#### Importing libraries"
        },
        {
            "cell_type": "code",
            "execution_count": 1,
            "metadata": {},
            "outputs": [
                {
                    "name": "stdout",
                    "output_type": "stream",
                    "text": "Requirement already satisfied: ibm-watson in ./anaconda3/lib/python3.7/site-packages (4.2.1)\nRequirement already satisfied: requests<3.0,>=2.0 in ./anaconda3/lib/python3.7/site-packages (from ibm-watson) (2.27.1)\nRequirement already satisfied: ibm-cloud-sdk-core==1.5.1 in ./anaconda3/lib/python3.7/site-packages (from ibm-watson) (1.5.1)\nRequirement already satisfied: python-dateutil>=2.5.3 in ./anaconda3/lib/python3.7/site-packages (from ibm-watson) (2.8.1)\nRequirement already satisfied: websocket-client==0.48.0 in ./anaconda3/lib/python3.7/site-packages (from ibm-watson) (0.48.0)\nRequirement already satisfied: certifi>=2017.4.17 in ./anaconda3/lib/python3.7/site-packages (from requests<3.0,>=2.0->ibm-watson) (2020.12.5)\nRequirement already satisfied: idna<4,>=2.5; python_version >= \"3\" in ./anaconda3/lib/python3.7/site-packages (from requests<3.0,>=2.0->ibm-watson) (2.10)\nRequirement already satisfied: charset-normalizer~=2.0.0; python_version >= \"3\" in ./anaconda3/lib/python3.7/site-packages (from requests<3.0,>=2.0->ibm-watson) (2.0.10)\nRequirement already satisfied: urllib3<1.27,>=1.21.1 in ./anaconda3/lib/python3.7/site-packages (from requests<3.0,>=2.0->ibm-watson) (1.25.11)\nRequirement already satisfied: PyJWT>=1.7.1 in ./anaconda3/lib/python3.7/site-packages (from ibm-cloud-sdk-core==1.5.1->ibm-watson) (1.7.1)\nRequirement already satisfied: six>=1.5 in ./anaconda3/lib/python3.7/site-packages (from python-dateutil>=2.5.3->ibm-watson) (1.15.0)\nRequirement already satisfied: moviepy in ./anaconda3/lib/python3.7/site-packages (1.0.1)\nRequirement already satisfied: requests<3.0,>=2.8.1 in ./anaconda3/lib/python3.7/site-packages (from moviepy) (2.27.1)\nRequirement already satisfied: imageio<3.0,>=2.5; python_version >= \"3.4\" in ./anaconda3/lib/python3.7/site-packages (from moviepy) (2.9.0)\nRequirement already satisfied: tqdm<5.0,>=4.11.2 in ./anaconda3/lib/python3.7/site-packages (from moviepy) (4.51.0)\nRequirement already satisfied: imageio-ffmpeg>=0.2.0; python_version >= \"3.4\" in ./anaconda3/lib/python3.7/site-packages (from moviepy) (0.3.0)\nRequirement already satisfied: decorator<5.0,>=4.0.2 in ./anaconda3/lib/python3.7/site-packages (from moviepy) (4.4.2)\nRequirement already satisfied: numpy in ./anaconda3/lib/python3.7/site-packages (from moviepy) (1.19.2)\nRequirement already satisfied: proglog<=1.0.0 in ./anaconda3/lib/python3.7/site-packages (from moviepy) (0.1.9)\nRequirement already satisfied: urllib3<1.27,>=1.21.1 in ./anaconda3/lib/python3.7/site-packages (from requests<3.0,>=2.8.1->moviepy) (1.25.11)\nRequirement already satisfied: idna<4,>=2.5; python_version >= \"3\" in ./anaconda3/lib/python3.7/site-packages (from requests<3.0,>=2.8.1->moviepy) (2.10)\nRequirement already satisfied: certifi>=2017.4.17 in ./anaconda3/lib/python3.7/site-packages (from requests<3.0,>=2.8.1->moviepy) (2020.12.5)\nRequirement already satisfied: charset-normalizer~=2.0.0; python_version >= \"3\" in ./anaconda3/lib/python3.7/site-packages (from requests<3.0,>=2.8.1->moviepy) (2.0.10)\nRequirement already satisfied: pillow in ./anaconda3/lib/python3.7/site-packages (from imageio<3.0,>=2.5; python_version >= \"3.4\"->moviepy) (8.0.1)\nRequirement already satisfied: SpeechRecognition in ./anaconda3/lib/python3.7/site-packages (3.8.1)\nRequirement already satisfied: python-dotenv in ./anaconda3/lib/python3.7/site-packages (0.19.2)\n"
                }
            ],
            "source": "!pip install ibm-watson  #Installing IBM modules\n!pip install moviepy \n!pip install SpeechRecognition\n!pip install python-dotenv\nfrom ibm_cloud_sdk_core.authenticators import IAMAuthenticator\nfrom ibm_watson import SpeechToTextV1\nimport speech_recognition as sr\nimport moviepy.editor as mp #extracting audio from video\nfrom os import path\nimport pandas as pd\nimport json"
        },
        {
            "cell_type": "markdown",
            "metadata": {},
            "source": "#### Converts the speech from the provided audio file into textusing the IBM Watson Speech-To-Text API"
        },
        {
            "cell_type": "markdown",
            "metadata": {},
            "source": "#### Extracting sound from video ans saving it as JSON"
        },
        {
            "cell_type": "code",
            "execution_count": 3,
            "metadata": {},
            "outputs": [
                {
                    "name": "stdout",
                    "output_type": "stream",
                    "text": "env: IBM_API=X8xfXgOSuM0DEAlKOC6Zx0A9AqR4CDvXNplSVPm2SiDe\n"
                }
            ],
            "source": "# The code was removed by Watson Studio for sharing."
        },
        {
            "cell_type": "code",
            "execution_count": 4,
            "metadata": {},
            "outputs": [],
            "source": "\nfrom dotenv import load_dotenv\nimport os\nload_dotenv()\nAPI_KEY=os.getenv('IBM_API')"
        },
        {
            "cell_type": "markdown",
            "metadata": {},
            "source": " Here we are going to transfer video file to audio mp3 format. Then we will conect to IBM Wtson speech-to-text using an API and as a result we will have text and save it in JSON format "
        },
        {
            "cell_type": "code",
            "execution_count": 5,
            "metadata": {},
            "outputs": [
                {
                    "name": "stderr",
                    "output_type": "stream",
                    "text": "chunk:   1%|\u258f         | 46/3392 [00:00<00:07, 455.83it/s, now=None]"
                },
                {
                    "name": "stdout",
                    "output_type": "stream",
                    "text": "MoviePy - Writing audio in theaudio.mp3\n"
                },
                {
                    "name": "stderr",
                    "output_type": "stream",
                    "text": "                                                                     \r"
                },
                {
                    "name": "stdout",
                    "output_type": "stream",
                    "text": "MoviePy - Done.\n"
                }
            ],
            "source": "#video to voince\nvideo_clip = mp.VideoFileClip('video.mp4')\nvideo_clip.audio.write_audiofile(\"theaudio.mp3\")# transfering to audio\n#getting authorisation from IBM Watson \nauthenticator = IAMAuthenticator(API_KEY)\nspeech_to_text = SpeechToTextV1(authenticator=authenticator)\nspeech_to_text.set_service_url('https://api.us-south.speech-to-text.watson.cloud.ibm.com/instances/662d60ba-29f7-428d-98b3-27d12b178763')\n#speech_to_text\nwith open('theaudio.mp3','rb') as audio_file:\n    speech_recognition = speech_to_text.recognize(\n        audio=audio_file,\n        content_type='audio/mp3',model='en-US_NarrowbandModel').get_result() \n#save as JSON\nwith open('speech_result.json', 'w') as f:\n    json.dump(speech_recognition, f)\n"
        },
        {
            "cell_type": "markdown",
            "metadata": {},
            "source": "We are going to open out JSON file "
        },
        {
            "cell_type": "code",
            "execution_count": 6,
            "metadata": {},
            "outputs": [
                {
                    "data": {
                        "text/plain": "{'result_index': 0,\n 'results': [{'final': True,\n   'alternatives': [{'transcript': 'hello everyone and welcome to this presentation ',\n     'confidence': 1.0}]},\n  {'final': True,\n   'alternatives': [{'transcript': \"I'm doctor Alan Kaplan a primary care physician from the department of family community medicine at university of Toronto and out your account \",\n     'confidence': 0.79}]},\n  {'final': True,\n   'alternatives': [{'transcript': 'hi my cast a registered respiratory therapist and registered pulmonary function technologists from Western Michigan University Homer Stryker M. D. school of medicine in Kalamazoo Michigan ',\n     'confidence': 0.87}]},\n  {'final': True,\n   'alternatives': [{'transcript': 'today we would like to discuss some important aspects of COPD specifically when we should consider COPD our patience what type of medications are available and some factors to consider when selecting an inhaler ',\n     'confidence': 0.83}]},\n  {'final': True,\n   'alternatives': [{'transcript': 'Michael did you know that according to results of recent and I H. survey ',\n     'confidence': 0.89}]},\n  {'final': True,\n   'alternatives': [{'transcript': \"all the proportion of smokers who discuss your P. sometimes with a doctor's rose from forty two percent in two thousand nine sixty seven percent two thousand four thirteen \",\n     'confidence': 0.87}]},\n  {'final': True,\n   'alternatives': [{'transcript': 'more than one quarter of adults reported experiencing COB symptoms did not discuss the symptoms with the health care practitioner ',\n     'confidence': 0.78}]},\n  {'final': True,\n   'alternatives': [{'transcript': \"nearly half of US primary Kerr physicians nurse practitioners and physician assistants surveyed between two thousand thirteen two thousand fourteen sep patience not fully risk for porting the symptoms was a Berrier what's UP diagnose \",\n     'confidence': 0.79}]},\n  {'final': True,\n   'alternatives': [{'transcript': 'yes even though approximately sixteen million adults in the U. S. have been diagnosed with COPD many more are thought to be on diagnosed and consequently untreated ',\n     'confidence': 0.9}]},\n  {'final': True,\n   'alternatives': [{'transcript': 'in addition to patients not discussing their symptoms ',\n     'confidence': 0.95}]},\n  {'final': True,\n   'alternatives': [{'transcript': \"other potential reasons for a diagnosis you'll be or that health care providers are not considering COPD in some patients because they are non or never smokers or because he's not present with typical signs and symptoms of COPD that's right Alan though cigarette smoking is recognized as the leading risk factor for COPD less than fifty percent of smokers actually developed COPD in their lifetime suggesting the etiology of COPD is complex further a substantial portion of COPD cases cannot be explained by smoking alone \",\n     'confidence': 0.78}]},\n  {'final': True,\n   'alternatives': [{'transcript': 'in fact one in four people diagnosed with COPD have never smoked a single cigarette ',\n     'confidence': 0.98}]},\n  {'final': True,\n   'alternatives': [{'transcript': \"that's right \", 'confidence': 0.98}]},\n  {'final': True,\n   'alternatives': [{'transcript': 'consistent evidence indicates that risk factors other than cigarette smoking play a role in C. O. P. D. ',\n     'confidence': 0.86}]},\n  {'final': True,\n   'alternatives': [{'transcript': 'such risk factors include age sex socioeconomic status other forms of smoking such as marijuana smoking exposure to indoor and outdoor pollutants including biomass fuels ',\n     'confidence': 0.86}]},\n  {'final': True,\n   'alternatives': [{'transcript': 'genetic factors as well and history of childhood respiratory infections ',\n     'confidence': 0.97}]}]}"
                    },
                    "execution_count": 6,
                    "metadata": {},
                    "output_type": "execute_result"
                }
            ],
            "source": "#access to JSON \nwith open('speech_result.json') as access_json:\n    read_content = json.load(access_json)\nread_content"
        },
        {
            "cell_type": "markdown",
            "metadata": {},
            "source": "We can see that JSON file is stored in form of nested dictionary and we have to extract transcript content from it."
        },
        {
            "cell_type": "code",
            "execution_count": 7,
            "metadata": {},
            "outputs": [
                {
                    "data": {
                        "text/plain": "{'final': True,\n 'alternatives': [{'transcript': 'hello everyone and welcome to this presentation ',\n   'confidence': 1.0}]}"
                    },
                    "execution_count": 7,
                    "metadata": {},
                    "output_type": "execute_result"
                }
            ],
            "source": "read_content['results'][0]"
        },
        {
            "cell_type": "markdown",
            "metadata": {},
            "source": "#### Processes the API response into a single text result"
        },
        {
            "cell_type": "code",
            "execution_count": 8,
            "metadata": {},
            "outputs": [
                {
                    "name": "stdout",
                    "output_type": "stream",
                    "text": "hello everyone and welcome to this presentation \nI'm doctor Alan Kaplan a primary care physician from the department of family community medicine at university of Toronto and out your account \nhi my cast a registered respiratory therapist and registered pulmonary function technologists from Western Michigan University Homer Stryker M. D. school of medicine in Kalamazoo Michigan \ntoday we would like to discuss some important aspects of COPD specifically when we should consider COPD our patience what type of medications are available and some factors to consider when selecting an inhaler \nMichael did you know that according to results of recent and I H. survey \nall the proportion of smokers who discuss your P. sometimes with a doctor's rose from forty two percent in two thousand nine sixty seven percent two thousand four thirteen \nmore than one quarter of adults reported experiencing COB symptoms did not discuss the symptoms with the health care practitioner \nnearly half of US primary Kerr physicians nurse practitioners and physician assistants surveyed between two thousand thirteen two thousand fourteen sep patience not fully risk for porting the symptoms was a Berrier what's UP diagnose \nyes even though approximately sixteen million adults in the U. S. have been diagnosed with COPD many more are thought to be on diagnosed and consequently untreated \nin addition to patients not discussing their symptoms \nother potential reasons for a diagnosis you'll be or that health care providers are not considering COPD in some patients because they are non or never smokers or because he's not present with typical signs and symptoms of COPD that's right Alan though cigarette smoking is recognized as the leading risk factor for COPD less than fifty percent of smokers actually developed COPD in their lifetime suggesting the etiology of COPD is complex further a substantial portion of COPD cases cannot be explained by smoking alone \nin fact one in four people diagnosed with COPD have never smoked a single cigarette \nthat's right \nconsistent evidence indicates that risk factors other than cigarette smoking play a role in C. O. P. D. \nsuch risk factors include age sex socioeconomic status other forms of smoking such as marijuana smoking exposure to indoor and outdoor pollutants including biomass fuels \ngenetic factors as well and history of childhood respiratory infections \n"
                }
            ],
            "source": "#accesing transcript in nested dictionary \ndef postProcessingText():\n    text=read_content['results']\n    for content in text:\n        alternatives=content['alternatives']\n        for results in alternatives:\n            transcript=results['transcript']\n            print(transcript)\npostProcessingText()        "
        },
        {
            "cell_type": "code",
            "execution_count": null,
            "metadata": {},
            "outputs": [],
            "source": ""
        },
        {
            "cell_type": "code",
            "execution_count": null,
            "metadata": {},
            "outputs": [],
            "source": ""
        }
    ],
    "metadata": {
        "kernelspec": {
            "display_name": "Python 3.9",
            "language": "python",
            "name": "python3"
        },
        "language_info": {
            "codemirror_mode": {
                "name": "ipython",
                "version": 3
            },
            "file_extension": ".py",
            "mimetype": "text/x-python",
            "name": "python",
            "nbconvert_exporter": "python",
            "pygments_lexer": "ipython3",
            "version": "3.9.7"
        }
    },
    "nbformat": 4,
    "nbformat_minor": 4
}