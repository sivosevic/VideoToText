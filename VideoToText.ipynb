{
 "cells": [
  {
   "cell_type": "markdown",
   "metadata": {},
   "source": [
    "#### Importing libraries"
   ]
  },
  {
   "cell_type": "code",
   "execution_count": 1,
   "metadata": {},
   "outputs": [],
   "source": [
    "#pip install ibm-watson  #Installing IBM modules\n",
    "#pip install moviepy \n",
    "#pip install SpeechRecognition\n",
    "#pip install python-dotenv\n",
    "from ibm_cloud_sdk_core.authenticators import IAMAuthenticator\n",
    "from ibm_watson import SpeechToTextV1\n",
    "import speech_recognition as sr\n",
    "import moviepy.editor as mp #extracting audio from video\n",
    "from os import path\n",
    "import pandas as pd\n",
    "import json"
   ]
  },
  {
   "cell_type": "markdown",
   "metadata": {},
   "source": []
  },
  {
   "cell_type": "markdown",
   "metadata": {},
   "source": [
    "#### Converts the speech from the provided video file to audio mp3 format and then into text using the IBM Watson Speech-To-Text API. As a result we will have text in JSON format"
   ]
  },
  {
   "cell_type": "code",
   "execution_count": 3,
   "metadata": {},
   "outputs": [
    {
     "name": "stderr",
     "output_type": "stream",
     "text": [
      "chunk:   2%|▏         | 54/3392 [00:00<00:06, 522.92it/s, now=None]"
     ]
    },
    {
     "name": "stdout",
     "output_type": "stream",
     "text": [
      "MoviePy - Writing audio in theaudio.mp3\n"
     ]
    },
    {
     "name": "stderr",
     "output_type": "stream",
     "text": [
      "                                                                     \r"
     ]
    },
    {
     "name": "stdout",
     "output_type": "stream",
     "text": [
      "MoviePy - Done.\n"
     ]
    }
   ],
   "source": [
    "#video to voice\n",
    "video_clip = mp.VideoFileClip(\"video.mp4\")\n",
    "video_clip.audio.write_audiofile(\"theaudio.mp3\")# transfering to audio\n",
    "#getting authorisation from IBM Watson \n",
    "authenticator = IAMAuthenticator(API_KEY) # API_KEY is generated from IBM Watson\n",
    "speech_to_text = SpeechToTextV1(authenticator=authenticator)\n",
    "speech_to_text.set_service_url('https://api.us-south.speech-to-text.watson.cloud.ibm.com/instances/662d60ba-29f7-428d-98b3-27d12b178763')\n",
    "#speech_to_text\n",
    "with open('theaudio.mp3','rb') as audio_file:\n",
    "    speech_recognition = speech_to_text.recognize(\n",
    "        audio=audio_file,\n",
    "        content_type='audio/mp3',model='en-US_NarrowbandModel').get_result() \n",
    "#save as JSON\n",
    "with open('speech_result.json', 'w') as f:\n",
    "    json.dump(speech_recognition, f)\n"
   ]
  },
  {
   "cell_type": "markdown",
   "metadata": {},
   "source": [
    "#### Accessing JSON response from the API "
   ]
  },
  {
   "cell_type": "code",
   "execution_count": 4,
   "metadata": {},
   "outputs": [
    {
     "data": {
      "text/plain": [
       "{'result_index': 0,\n",
       " 'results': [{'final': True,\n",
       "   'alternatives': [{'transcript': 'hello everyone and welcome to this presentation ',\n",
       "     'confidence': 1.0}]},\n",
       "  {'final': True,\n",
       "   'alternatives': [{'transcript': \"I'm doctor Alan Kaplan a primary care physician from the department of family community medicine at university of Toronto and out your account \",\n",
       "     'confidence': 0.79}]},\n",
       "  {'final': True,\n",
       "   'alternatives': [{'transcript': 'hi my cast a registered respiratory therapist and registered pulmonary function technologists from Western Michigan University Homer Stryker M. D. school of medicine in Kalamazoo Michigan ',\n",
       "     'confidence': 0.87}]},\n",
       "  {'final': True,\n",
       "   'alternatives': [{'transcript': 'today we would like to discuss some important aspects of COPD specifically when we should consider COPD our patience what type of medications are available and some factors to consider when selecting an inhaler ',\n",
       "     'confidence': 0.83}]},\n",
       "  {'final': True,\n",
       "   'alternatives': [{'transcript': 'Michael did you know that according to results of recent and I H. survey ',\n",
       "     'confidence': 0.89}]},\n",
       "  {'final': True,\n",
       "   'alternatives': [{'transcript': \"all the proportion of smokers who discuss your P. sometimes with a doctor's rose from forty two percent in two thousand nine sixty seven percent two thousand four thirteen \",\n",
       "     'confidence': 0.87}]},\n",
       "  {'final': True,\n",
       "   'alternatives': [{'transcript': 'more than one quarter of adults reported experiencing COB symptoms did not discuss the symptoms with the health care practitioner ',\n",
       "     'confidence': 0.78}]},\n",
       "  {'final': True,\n",
       "   'alternatives': [{'transcript': \"nearly half of US primary Kerr physicians nurse practitioners and physician assistants surveyed between two thousand thirteen two thousand fourteen sep patience not fully risk for porting the symptoms was a Berrier what's UP diagnose \",\n",
       "     'confidence': 0.79}]},\n",
       "  {'final': True,\n",
       "   'alternatives': [{'transcript': 'yes even though approximately sixteen million adults in the U. S. have been diagnosed with COPD many more are thought to be on diagnosed and consequently untreated ',\n",
       "     'confidence': 0.9}]},\n",
       "  {'final': True,\n",
       "   'alternatives': [{'transcript': 'in addition to patients not discussing their symptoms ',\n",
       "     'confidence': 0.95}]},\n",
       "  {'final': True,\n",
       "   'alternatives': [{'transcript': \"other potential reasons for a diagnosis you'll be or that health care providers are not considering COPD in some patients because they are non or never smokers or because he's not present with typical signs and symptoms of COPD that's right Alan though cigarette smoking is recognized as the leading risk factor for COPD less than fifty percent of smokers actually developed COPD in their lifetime suggesting the etiology of COPD is complex further a substantial portion of COPD cases cannot be explained by smoking alone \",\n",
       "     'confidence': 0.78}]},\n",
       "  {'final': True,\n",
       "   'alternatives': [{'transcript': 'in fact one in four people diagnosed with COPD have never smoked a single cigarette ',\n",
       "     'confidence': 0.98}]},\n",
       "  {'final': True,\n",
       "   'alternatives': [{'transcript': \"that's right \", 'confidence': 0.98}]},\n",
       "  {'final': True,\n",
       "   'alternatives': [{'transcript': 'consistent evidence indicates that risk factors other than cigarette smoking play a role in C. O. P. D. ',\n",
       "     'confidence': 0.86}]},\n",
       "  {'final': True,\n",
       "   'alternatives': [{'transcript': 'such risk factors include age sex socioeconomic status other forms of smoking such as marijuana smoking exposure to indoor and outdoor pollutants including biomass fuels ',\n",
       "     'confidence': 0.86}]},\n",
       "  {'final': True,\n",
       "   'alternatives': [{'transcript': 'genetic factors as well and history of childhood respiratory infections ',\n",
       "     'confidence': 0.97}]}]}"
      ]
     },
     "execution_count": 4,
     "metadata": {},
     "output_type": "execute_result"
    }
   ],
   "source": [
    "#access to JSON \n",
    "with open('speech_result.json') as access_json:\n",
    "    read_content = json.load(access_json)\n",
    "read_content"
   ]
  },
  {
   "cell_type": "markdown",
   "metadata": {},
   "source": [
    "#### We can see that text is stored in form of nested dictionary and we have to extract transcript content from it."
   ]
  },
  {
   "cell_type": "code",
   "execution_count": 5,
   "metadata": {},
   "outputs": [
    {
     "data": {
      "text/plain": [
       "{'final': True,\n",
       " 'alternatives': [{'transcript': 'hello everyone and welcome to this presentation ',\n",
       "   'confidence': 1.0}]}"
      ]
     },
     "execution_count": 5,
     "metadata": {},
     "output_type": "execute_result"
    }
   ],
   "source": [
    "read_content['results'][0]"
   ]
  },
  {
   "cell_type": "markdown",
   "metadata": {},
   "source": [
    "#### Processes the API response into a single text result"
   ]
  },
  {
   "cell_type": "code",
   "execution_count": 6,
   "metadata": {},
   "outputs": [
    {
     "name": "stdout",
     "output_type": "stream",
     "text": [
      "hello everyone and welcome to this presentation \n",
      "I'm doctor Alan Kaplan a primary care physician from the department of family community medicine at university of Toronto and out your account \n",
      "hi my cast a registered respiratory therapist and registered pulmonary function technologists from Western Michigan University Homer Stryker M. D. school of medicine in Kalamazoo Michigan \n",
      "today we would like to discuss some important aspects of COPD specifically when we should consider COPD our patience what type of medications are available and some factors to consider when selecting an inhaler \n",
      "Michael did you know that according to results of recent and I H. survey \n",
      "all the proportion of smokers who discuss your P. sometimes with a doctor's rose from forty two percent in two thousand nine sixty seven percent two thousand four thirteen \n",
      "more than one quarter of adults reported experiencing COB symptoms did not discuss the symptoms with the health care practitioner \n",
      "nearly half of US primary Kerr physicians nurse practitioners and physician assistants surveyed between two thousand thirteen two thousand fourteen sep patience not fully risk for porting the symptoms was a Berrier what's UP diagnose \n",
      "yes even though approximately sixteen million adults in the U. S. have been diagnosed with COPD many more are thought to be on diagnosed and consequently untreated \n",
      "in addition to patients not discussing their symptoms \n",
      "other potential reasons for a diagnosis you'll be or that health care providers are not considering COPD in some patients because they are non or never smokers or because he's not present with typical signs and symptoms of COPD that's right Alan though cigarette smoking is recognized as the leading risk factor for COPD less than fifty percent of smokers actually developed COPD in their lifetime suggesting the etiology of COPD is complex further a substantial portion of COPD cases cannot be explained by smoking alone \n",
      "in fact one in four people diagnosed with COPD have never smoked a single cigarette \n",
      "that's right \n",
      "consistent evidence indicates that risk factors other than cigarette smoking play a role in C. O. P. D. \n",
      "such risk factors include age sex socioeconomic status other forms of smoking such as marijuana smoking exposure to indoor and outdoor pollutants including biomass fuels \n",
      "genetic factors as well and history of childhood respiratory infections \n"
     ]
    }
   ],
   "source": [
    "#accesing transcript in nested dictionary \n",
    "def postProcessingText():\n",
    "    text=read_content['results']\n",
    "    for content in text:\n",
    "        alternatives=content['alternatives']\n",
    "        for results in alternatives:\n",
    "            transcript=results['transcript']\n",
    "            print(transcript)\n",
    "postProcessingText()        "
   ]
  },
  {
   "cell_type": "markdown",
   "metadata": {},
   "source": [
    "#### As a result we have a text transcript from a video "
   ]
  },
  {
   "cell_type": "code",
   "execution_count": null,
   "metadata": {},
   "outputs": [],
   "source": []
  }
 ],
 "metadata": {
  "kernelspec": {
   "display_name": "Python 3",
   "language": "python",
   "name": "python3"
  },
  "language_info": {
   "codemirror_mode": {
    "name": "ipython",
    "version": 3
   },
   "file_extension": ".py",
   "mimetype": "text/x-python",
   "name": "python",
   "nbconvert_exporter": "python",
   "pygments_lexer": "ipython3",
   "version": "3.7.3"
  }
 },
 "nbformat": 4,
 "nbformat_minor": 4
}
